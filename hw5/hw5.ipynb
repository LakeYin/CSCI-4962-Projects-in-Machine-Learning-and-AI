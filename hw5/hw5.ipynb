{
  "nbformat": 4,
  "nbformat_minor": 0,
  "metadata": {
    "interpreter": {
      "hash": "965a33b357934e9f83fc7ef133db771ae96b140076b3a892fdf40d2537a7764b"
    },
    "kernelspec": {
      "display_name": "Python 3.8.6rc1 64-bit",
      "name": "python3"
    },
    "language_info": {
      "codemirror_mode": {
        "name": "ipython",
        "version": 3
      },
      "file_extension": ".py",
      "mimetype": "text/x-python",
      "name": "python",
      "nbconvert_exporter": "python",
      "pygments_lexer": "ipython3",
      "version": "3.8.6rc1"
    },
    "orig_nbformat": 4,
    "colab": {
      "name": "hw5.ipynb",
      "provenance": []
    },
    "accelerator": "GPU"
  },
  "cells": [
    {
      "cell_type": "markdown",
      "metadata": {
        "id": "JBgnb53uA1vn"
      },
      "source": [
        "# Load dataset and seperate into train/test/validation"
      ]
    },
    {
      "cell_type": "code",
      "metadata": {
        "id": "RGZApclmA1wk"
      },
      "source": [
        "import tensorflow_datasets as tfds\n",
        "import tensorflow as tf\n",
        "\n",
        "batch_size = 32\n",
        "training, validation, test = tfds.load('cats_vs_dogs', split=['train[:70%]', 'train[70%:80%]', 'train[90%:]'], as_supervised=True)\n",
        "\n",
        "def preprocess(ds):\n",
        "    ds = ds.map(lambda x, y: (tf.image.resize(x, (224, 224)), y))\n",
        "    ds = ds.map(lambda x, y: (tf.keras.applications.vgg19.preprocess_input(x), y)) # converts to greyscale and zero-centers the data\n",
        "    ds = ds.shuffle(buffer_size=1000)\n",
        "    ds = ds.batch(batch_size)\n",
        "    ds = ds.prefetch(buffer_size=tf.data.AUTOTUNE)\n",
        "    \n",
        "    return ds\n",
        "\n",
        "training = preprocess(training)\n",
        "validation = preprocess(validation)\n",
        "test = preprocess(test)"
      ],
      "execution_count": 5,
      "outputs": []
    },
    {
      "cell_type": "markdown",
      "metadata": {
        "id": "d5o1rMqaA1w2"
      },
      "source": [
        "# Set up model"
      ]
    },
    {
      "cell_type": "code",
      "metadata": {
        "id": "31dDi3UTA1w9"
      },
      "source": [
        "model = tf.keras.Sequential()\n",
        "model.add(tf.keras.layers.Rescaling(1./255))\n",
        "model.add(tf.keras.layers.Conv2D(32, 3, activation='relu'))\n",
        "model.add(tf.keras.layers.MaxPooling2D())\n",
        "model.add(tf.keras.layers.Conv2D(32, 3, activation='relu'))\n",
        "model.add(tf.keras.layers.MaxPooling2D())\n",
        "model.add(tf.keras.layers.Conv2D(32, 3, activation='relu'))\n",
        "model.add(tf.keras.layers.MaxPooling2D())\n",
        "model.add(tf.keras.layers.Flatten())\n",
        "model.add(tf.keras.layers.Dense(128, activation='relu'))\n",
        "model.add(tf.keras.layers.Dense(128, activation='relu'))\n",
        "model.add(tf.keras.layers.Dense(1, activation='sigmoid'))\n",
        "\n",
        "model.compile(optimizer='adam', loss=tf.losses.BinaryCrossentropy(), metrics=['binary_accuracy'])"
      ],
      "execution_count": 6,
      "outputs": []
    },
    {
      "cell_type": "markdown",
      "metadata": {
        "id": "VXV0XttCA1xx"
      },
      "source": [
        "# Train model"
      ]
    },
    {
      "cell_type": "code",
      "metadata": {
        "colab": {
          "base_uri": "https://localhost:8080/"
        },
        "id": "uBTw355dA1xy",
        "outputId": "042562a5-3015-428e-bb8d-c24ec71ed147"
      },
      "source": [
        "epochs = 5\n",
        "model.fit(training, epochs=epochs, validation_data=validation)"
      ],
      "execution_count": 7,
      "outputs": [
        {
          "output_type": "stream",
          "name": "stdout",
          "text": [
            "Epoch 1/5\n",
            "509/509 [==============================] - 84s 153ms/step - loss: 0.5905 - binary_accuracy: 0.6722 - val_loss: 0.5331 - val_binary_accuracy: 0.7422\n",
            "Epoch 2/5\n",
            "509/509 [==============================] - 79s 148ms/step - loss: 0.4642 - binary_accuracy: 0.7804 - val_loss: 0.5617 - val_binary_accuracy: 0.7349\n",
            "Epoch 3/5\n",
            "509/509 [==============================] - 78s 147ms/step - loss: 0.3648 - binary_accuracy: 0.8384 - val_loss: 0.4862 - val_binary_accuracy: 0.7817\n",
            "Epoch 4/5\n",
            "509/509 [==============================] - 78s 147ms/step - loss: 0.2431 - binary_accuracy: 0.8998 - val_loss: 0.6322 - val_binary_accuracy: 0.7894\n",
            "Epoch 5/5\n",
            "509/509 [==============================] - 79s 149ms/step - loss: 0.1399 - binary_accuracy: 0.9459 - val_loss: 0.6985 - val_binary_accuracy: 0.7937\n"
          ]
        },
        {
          "output_type": "execute_result",
          "data": {
            "text/plain": [
              "<keras.callbacks.History at 0x7fc71c084390>"
            ]
          },
          "metadata": {},
          "execution_count": 7
        }
      ]
    },
    {
      "cell_type": "markdown",
      "metadata": {
        "id": "6NBAY3dlFGE_"
      },
      "source": [
        "# Evaluate on test set"
      ]
    },
    {
      "cell_type": "code",
      "metadata": {
        "colab": {
          "base_uri": "https://localhost:8080/"
        },
        "id": "4Ghpiv9KFJiB",
        "outputId": "cc0ec601-13b5-4922-c742-ae5cc481f2e9"
      },
      "source": [
        "print(model.metrics_names)\n",
        "print(model.evaluate(test, verbose=0))"
      ],
      "execution_count": 8,
      "outputs": [
        {
          "output_type": "stream",
          "name": "stdout",
          "text": [
            "['loss', 'binary_accuracy']\n",
            "[0.6511451601982117, 0.7871882915496826]\n"
          ]
        }
      ]
    },
    {
      "cell_type": "markdown",
      "metadata": {
        "id": "HfRp3x-cHscc"
      },
      "source": [
        "# Train VGG19"
      ]
    },
    {
      "cell_type": "code",
      "metadata": {
        "colab": {
          "base_uri": "https://localhost:8080/"
        },
        "id": "vla7JNvwHwRI",
        "outputId": "b5a1c034-f37d-4282-e5f9-f84400301480"
      },
      "source": [
        "import numpy as np\n",
        "\n",
        "model = tf.keras.Sequential()\n",
        "model.add(tf.keras.applications.VGG19(include_top=False, pooling='avg'))\n",
        "model.add(tf.keras.layers.Dense(1, activation='sigmoid'))\n",
        "model.layers[0].trainable = False\n",
        "\n",
        "model.compile(optimizer='adam', loss='binary_crossentropy', metrics=['binary_accuracy'])\n",
        "\n",
        "epochs = 5\n",
        "model.fit(training, epochs=epochs, validation_data=validation)"
      ],
      "execution_count": 9,
      "outputs": [
        {
          "output_type": "stream",
          "name": "stdout",
          "text": [
            "Epoch 1/5\n",
            "509/509 [==============================] - 199s 363ms/step - loss: 0.2006 - binary_accuracy: 0.9377 - val_loss: 0.0991 - val_binary_accuracy: 0.9738\n",
            "Epoch 2/5\n",
            "509/509 [==============================] - 173s 332ms/step - loss: 0.0612 - binary_accuracy: 0.9797 - val_loss: 0.0750 - val_binary_accuracy: 0.9802\n",
            "Epoch 3/5\n",
            "509/509 [==============================] - 172s 332ms/step - loss: 0.0480 - binary_accuracy: 0.9845 - val_loss: 0.0677 - val_binary_accuracy: 0.9807\n",
            "Epoch 4/5\n",
            "509/509 [==============================] - 172s 332ms/step - loss: 0.0378 - binary_accuracy: 0.9880 - val_loss: 0.0643 - val_binary_accuracy: 0.9828\n",
            "Epoch 5/5\n",
            "509/509 [==============================] - 172s 332ms/step - loss: 0.0341 - binary_accuracy: 0.9888 - val_loss: 0.0619 - val_binary_accuracy: 0.9837\n"
          ]
        },
        {
          "output_type": "execute_result",
          "data": {
            "text/plain": [
              "<keras.callbacks.History at 0x7fc71bee0950>"
            ]
          },
          "metadata": {},
          "execution_count": 9
        }
      ]
    },
    {
      "cell_type": "markdown",
      "metadata": {
        "id": "nP_8Y147dlLc"
      },
      "source": [
        "# Evaluate VGG19 on test set\n",
        "\n",
        "The VGG19 model performs much better than the regular CNN, likely due to the more robust model architecture and a larger training dataset."
      ]
    },
    {
      "cell_type": "code",
      "metadata": {
        "colab": {
          "base_uri": "https://localhost:8080/"
        },
        "id": "SqvNQXwRdnuz",
        "outputId": "fa4f603d-a761-4d2b-d3cd-1015d2de443e"
      },
      "source": [
        "print(model.metrics_names)\n",
        "print(model.evaluate(test, verbose=0))"
      ],
      "execution_count": 10,
      "outputs": [
        {
          "output_type": "stream",
          "name": "stdout",
          "text": [
            "['loss', 'binary_accuracy']\n",
            "[0.040633171796798706, 0.9871023297309875]\n"
          ]
        }
      ]
    },
    {
      "cell_type": "markdown",
      "metadata": {
        "id": "rACJRiyxevud"
      },
      "source": [
        "# Create and train new CNN with random transformations"
      ]
    },
    {
      "cell_type": "code",
      "metadata": {
        "id": "26-6PGfievQF",
        "outputId": "dc165f74-fdf5-4041-d0cb-f362a56e9dff",
        "colab": {
          "base_uri": "https://localhost:8080/"
        }
      },
      "source": [
        "model = tf.keras.Sequential()\n",
        "model.add(tf.keras.layers.Rescaling(1./255))\n",
        "model.add(tf.keras.layers.RandomFlip())\n",
        "model.add(tf.keras.layers.RandomRotation((1, 1), fill_mode='nearest'))\n",
        "model.add(tf.keras.layers.Conv2D(32, 3, activation='relu'))\n",
        "model.add(tf.keras.layers.MaxPooling2D())\n",
        "model.add(tf.keras.layers.Conv2D(32, 3, activation='relu'))\n",
        "model.add(tf.keras.layers.MaxPooling2D())\n",
        "model.add(tf.keras.layers.Conv2D(32, 3, activation='relu'))\n",
        "model.add(tf.keras.layers.MaxPooling2D())\n",
        "model.add(tf.keras.layers.Flatten())\n",
        "model.add(tf.keras.layers.Dense(128, activation='relu'))\n",
        "model.add(tf.keras.layers.Dense(128, activation='relu'))\n",
        "model.add(tf.keras.layers.Dense(1, activation='sigmoid'))\n",
        "\n",
        "model.compile(optimizer='adam', loss=tf.losses.BinaryCrossentropy(), metrics=['binary_accuracy'])\n",
        "\n",
        "epochs = 5\n",
        "model.fit(training, epochs=epochs, validation_data=validation)"
      ],
      "execution_count": 12,
      "outputs": [
        {
          "output_type": "stream",
          "name": "stdout",
          "text": [
            "Epoch 1/5\n",
            "509/509 [==============================] - 80s 148ms/step - loss: 0.6145 - binary_accuracy: 0.6542 - val_loss: 0.5632 - val_binary_accuracy: 0.7026\n",
            "Epoch 2/5\n",
            "509/509 [==============================] - 78s 146ms/step - loss: 0.5256 - binary_accuracy: 0.7394 - val_loss: 0.5204 - val_binary_accuracy: 0.7379\n",
            "Epoch 3/5\n",
            "509/509 [==============================] - 79s 149ms/step - loss: 0.4789 - binary_accuracy: 0.7694 - val_loss: 0.4860 - val_binary_accuracy: 0.7688\n",
            "Epoch 4/5\n",
            "509/509 [==============================] - 80s 150ms/step - loss: 0.4431 - binary_accuracy: 0.7915 - val_loss: 0.4656 - val_binary_accuracy: 0.7894\n",
            "Epoch 5/5\n",
            "509/509 [==============================] - 80s 151ms/step - loss: 0.4067 - binary_accuracy: 0.8188 - val_loss: 0.4461 - val_binary_accuracy: 0.8006\n"
          ]
        },
        {
          "output_type": "execute_result",
          "data": {
            "text/plain": [
              "<keras.callbacks.History at 0x7fc71bc4ab50>"
            ]
          },
          "metadata": {},
          "execution_count": 12
        }
      ]
    },
    {
      "cell_type": "markdown",
      "metadata": {
        "id": "mtTeNeXNhYSr"
      },
      "source": [
        "# Evaluate on test set\n",
        "\n",
        "Perforance is somewhat better, likely because the random transformations forced the model to learn fundemental patterns of the animals instead of learning the simple patterns present in the image."
      ]
    },
    {
      "cell_type": "code",
      "metadata": {
        "id": "kzQTyEjthcn_",
        "outputId": "73d9fa5a-8f5a-4001-a44d-2430806c1d3b",
        "colab": {
          "base_uri": "https://localhost:8080/"
        }
      },
      "source": [
        "print(model.metrics_names)\n",
        "print(model.evaluate(test, verbose=0))"
      ],
      "execution_count": 13,
      "outputs": [
        {
          "output_type": "stream",
          "name": "stdout",
          "text": [
            "['loss', 'binary_accuracy']\n",
            "[0.4190812110900879, 0.8073946833610535]\n"
          ]
        }
      ]
    }
  ]
}