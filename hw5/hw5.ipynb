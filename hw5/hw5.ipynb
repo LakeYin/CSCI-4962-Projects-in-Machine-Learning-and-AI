{
  "nbformat": 4,
  "nbformat_minor": 0,
  "metadata": {
    "interpreter": {
      "hash": "965a33b357934e9f83fc7ef133db771ae96b140076b3a892fdf40d2537a7764b"
    },
    "kernelspec": {
      "display_name": "Python 3.8.6rc1 64-bit",
      "name": "python3"
    },
    "language_info": {
      "codemirror_mode": {
        "name": "ipython",
        "version": 3
      },
      "file_extension": ".py",
      "mimetype": "text/x-python",
      "name": "python",
      "nbconvert_exporter": "python",
      "pygments_lexer": "ipython3",
      "version": "3.8.6rc1"
    },
    "orig_nbformat": 4,
    "colab": {
      "name": "hw5.ipynb",
      "provenance": []
    },
    "accelerator": "GPU"
  },
  "cells": [
    {
      "cell_type": "markdown",
      "metadata": {
        "id": "JBgnb53uA1vn"
      },
      "source": [
        "# Load dataset and seperate into train/test/validation"
      ]
    },
    {
      "cell_type": "code",
      "metadata": {
        "id": "RGZApclmA1wk"
      },
      "source": [
        "import tensorflow_datasets as tfds\n",
        "import tensorflow as tf\n",
        "\n",
        "batch_size = 32\n",
        "training, validation, test = tfds.load('cats_vs_dogs', split=['train[:70%]', 'train[70%:80%]', 'train[90%:]'], as_supervised=True)\n",
        "\n",
        "def preprocess(ds):\n",
        "    ds = ds.cache()\n",
        "    ds = ds.map(lambda x, y: (tf.image.rgb_to_grayscale(x), y))\n",
        "    ds = ds.map(lambda x, y: (tf.image.resize(x, (256, 256)), y))\n",
        "    ds = ds.shuffle(buffer_size=1000)\n",
        "    ds = ds.batch(batch_size)\n",
        "    ds = ds.prefetch(buffer_size=tf.data.AUTOTUNE)\n",
        "    \n",
        "    return ds\n",
        "\n",
        "training = preprocess(training)\n",
        "validation = preprocess(validation)\n",
        "test = preprocess(test)"
      ],
      "execution_count": 2,
      "outputs": []
    },
    {
      "cell_type": "markdown",
      "metadata": {
        "id": "d5o1rMqaA1w2"
      },
      "source": [
        "# Set up model"
      ]
    },
    {
      "cell_type": "code",
      "metadata": {
        "id": "31dDi3UTA1w9"
      },
      "source": [
        "model = tf.keras.Sequential()\n",
        "model.add(tf.keras.layers.Rescaling(1./255))\n",
        "model.add(tf.keras.layers.Conv2D(32, 3, activation='relu'))\n",
        "model.add(tf.keras.layers.MaxPooling2D())\n",
        "model.add(tf.keras.layers.Conv2D(32, 3, activation='relu'))\n",
        "model.add(tf.keras.layers.MaxPooling2D())\n",
        "model.add(tf.keras.layers.Conv2D(32, 3, activation='relu'))\n",
        "model.add(tf.keras.layers.MaxPooling2D())\n",
        "model.add(tf.keras.layers.Flatten())\n",
        "model.add(tf.keras.layers.Dense(128, activation='relu'))\n",
        "model.add(tf.keras.layers.Dense(128, activation='relu'))\n",
        "model.add(tf.keras.layers.Dense(1, activation='sigmoid'))\n",
        "\n",
        "model.compile(optimizer='adam', loss=tf.losses.BinaryCrossentropy(), metrics=['binary_accuracy'])"
      ],
      "execution_count": 3,
      "outputs": []
    },
    {
      "cell_type": "markdown",
      "metadata": {
        "id": "VXV0XttCA1xx"
      },
      "source": [
        "# Train model"
      ]
    },
    {
      "cell_type": "code",
      "metadata": {
        "id": "uBTw355dA1xy",
        "outputId": "2477ce30-960f-4832-a1be-53a5d8388240",
        "colab": {
          "base_uri": "https://localhost:8080/"
        }
      },
      "source": [
        "epochs = 5\n",
        "model.fit(training, epochs=epochs, validation_data=validation)"
      ],
      "execution_count": 4,
      "outputs": [
        {
          "output_type": "stream",
          "name": "stdout",
          "text": [
            "Epoch 1/5\n",
            "509/509 [==============================] - 108s 143ms/step - loss: 0.6346 - binary_accuracy: 0.6351 - val_loss: 0.6054 - val_binary_accuracy: 0.6829\n",
            "Epoch 2/5\n",
            "509/509 [==============================] - 54s 103ms/step - loss: 0.5078 - binary_accuracy: 0.7513 - val_loss: 0.5054 - val_binary_accuracy: 0.7520\n",
            "Epoch 3/5\n",
            "509/509 [==============================] - 55s 104ms/step - loss: 0.4014 - binary_accuracy: 0.8143 - val_loss: 0.5483 - val_binary_accuracy: 0.7323\n",
            "Epoch 4/5\n",
            "509/509 [==============================] - 54s 102ms/step - loss: 0.2676 - binary_accuracy: 0.8871 - val_loss: 0.6759 - val_binary_accuracy: 0.7606\n",
            "Epoch 5/5\n",
            "509/509 [==============================] - 54s 103ms/step - loss: 0.1309 - binary_accuracy: 0.9496 - val_loss: 1.0869 - val_binary_accuracy: 0.7383\n"
          ]
        },
        {
          "output_type": "execute_result",
          "data": {
            "text/plain": [
              "<keras.callbacks.History at 0x7f4772fa3790>"
            ]
          },
          "metadata": {},
          "execution_count": 4
        }
      ]
    },
    {
      "cell_type": "markdown",
      "metadata": {
        "id": "6NBAY3dlFGE_"
      },
      "source": [
        "# Evaluate on test set"
      ]
    },
    {
      "cell_type": "code",
      "metadata": {
        "id": "4Ghpiv9KFJiB",
        "outputId": "498ae39b-08f0-47e7-bea4-3aa4327e5981",
        "colab": {
          "base_uri": "https://localhost:8080/"
        }
      },
      "source": [
        "print(model.metrics_names)\n",
        "print(model.evaluate(test, verbose=0))"
      ],
      "execution_count": 6,
      "outputs": [
        {
          "output_type": "stream",
          "name": "stdout",
          "text": [
            "['loss', 'binary_accuracy']\n",
            "[0.9103648066520691, 0.7691315412521362]\n"
          ]
        }
      ]
    }
  ]
}