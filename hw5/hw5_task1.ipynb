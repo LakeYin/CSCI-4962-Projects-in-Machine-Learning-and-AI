{
  "nbformat": 4,
  "nbformat_minor": 0,
  "metadata": {
    "accelerator": "GPU",
    "colab": {
      "name": "hw5.ipynb",
      "provenance": []
    },
    "interpreter": {
      "hash": "965a33b357934e9f83fc7ef133db771ae96b140076b3a892fdf40d2537a7764b"
    },
    "kernelspec": {
      "display_name": "Python 3.8.6rc1 64-bit",
      "name": "python3"
    },
    "language_info": {
      "codemirror_mode": {
        "name": "ipython",
        "version": 3
      },
      "file_extension": ".py",
      "mimetype": "text/x-python",
      "name": "python",
      "nbconvert_exporter": "python",
      "pygments_lexer": "ipython3",
      "version": "3.8.6rc1"
    },
    "orig_nbformat": 4
  },
  "cells": [
    {
      "cell_type": "markdown",
      "metadata": {
        "id": "JBgnb53uA1vn"
      },
      "source": [
        "# Load dataset and seperate into train/test/validation"
      ]
    },
    {
      "cell_type": "code",
      "metadata": {
        "id": "RGZApclmA1wk"
      },
      "source": [
        "import tensorflow_datasets as tfds\n",
        "import tensorflow as tf\n",
        "\n",
        "batch_size = 32\n",
        "training, validation, test = tfds.load('cats_vs_dogs', split=['train[:70%]', 'train[70%:80%]', 'train[90%:]'], as_supervised=True, shuffle_files=True)\n",
        "\n",
        "def preprocess(ds):\n",
        "    ds = ds.map(lambda x, y: (tf.image.resize(x, (224, 224)), y))\n",
        "    ds = ds.map(lambda x, y: (tf.keras.applications.vgg19.preprocess_input(x), y)) # converts to greyscale and zero-centers the data\n",
        "    ds = ds.batch(batch_size)\n",
        "    ds = ds.prefetch(buffer_size=tf.data.AUTOTUNE)\n",
        "    \n",
        "    return ds\n",
        "\n",
        "training = preprocess(training)\n",
        "validation = preprocess(validation)\n",
        "test = preprocess(test)"
      ],
      "execution_count": 3,
      "outputs": []
    },
    {
      "cell_type": "markdown",
      "metadata": {
        "id": "d5o1rMqaA1w2"
      },
      "source": [
        "# Set up model"
      ]
    },
    {
      "cell_type": "code",
      "metadata": {
        "id": "31dDi3UTA1w9"
      },
      "source": [
        "model = tf.keras.Sequential()\n",
        "model.add(tf.keras.layers.Rescaling(1./255))\n",
        "model.add(tf.keras.layers.Conv2D(32, 3, activation='relu'))\n",
        "model.add(tf.keras.layers.MaxPooling2D())\n",
        "model.add(tf.keras.layers.Conv2D(32, 3, activation='relu'))\n",
        "model.add(tf.keras.layers.MaxPooling2D())\n",
        "model.add(tf.keras.layers.Conv2D(32, 3, activation='relu'))\n",
        "model.add(tf.keras.layers.MaxPooling2D())\n",
        "model.add(tf.keras.layers.Conv2D(32, 3, activation='relu'))\n",
        "model.add(tf.keras.layers.MaxPooling2D())\n",
        "model.add(tf.keras.layers.Flatten())\n",
        "model.add(tf.keras.layers.Dense(128, activation='relu'))\n",
        "model.add(tf.keras.layers.Dense(128, activation='relu'))\n",
        "model.add(tf.keras.layers.Dense(1, activation='sigmoid'))\n",
        "\n",
        "model.compile(optimizer='adam', loss=tf.losses.BinaryCrossentropy(), metrics=['binary_accuracy'])"
      ],
      "execution_count": 4,
      "outputs": []
    },
    {
      "cell_type": "markdown",
      "metadata": {
        "id": "VXV0XttCA1xx"
      },
      "source": [
        "# Train model\n",
        "\n",
        "I picked 4 pooling/conv layers because accuracy didn't seem improve much beyond that number of layers."
      ]
    },
    {
      "cell_type": "code",
      "metadata": {
        "colab": {
          "base_uri": "https://localhost:8080/"
        },
        "id": "uBTw355dA1xy",
        "outputId": "e61f92bf-fe17-407a-fa0b-d2e09d7f88b6"
      },
      "source": [
        "epochs = 5\n",
        "model.fit(training, epochs=epochs, validation_data=validation)"
      ],
      "execution_count": 5,
      "outputs": [
        {
          "output_type": "stream",
          "name": "stdout",
          "text": [
            "Epoch 1/5\n",
            "509/509 [==============================] - 106s 147ms/step - loss: 0.6011 - binary_accuracy: 0.6604 - val_loss: 0.5115 - val_binary_accuracy: 0.7538\n",
            "Epoch 2/5\n",
            "509/509 [==============================] - 74s 146ms/step - loss: 0.4540 - binary_accuracy: 0.7879 - val_loss: 0.4420 - val_binary_accuracy: 0.7877\n",
            "Epoch 3/5\n",
            "509/509 [==============================] - 76s 148ms/step - loss: 0.3764 - binary_accuracy: 0.8332 - val_loss: 0.4073 - val_binary_accuracy: 0.8126\n",
            "Epoch 4/5\n",
            "509/509 [==============================] - 75s 146ms/step - loss: 0.3056 - binary_accuracy: 0.8694 - val_loss: 0.4078 - val_binary_accuracy: 0.8311\n",
            "Epoch 5/5\n",
            "509/509 [==============================] - 75s 147ms/step - loss: 0.2305 - binary_accuracy: 0.9030 - val_loss: 0.4723 - val_binary_accuracy: 0.8285\n"
          ]
        },
        {
          "output_type": "execute_result",
          "data": {
            "text/plain": [
              "<keras.callbacks.History at 0x7f17b2754f50>"
            ]
          },
          "metadata": {},
          "execution_count": 5
        }
      ]
    },
    {
      "cell_type": "markdown",
      "metadata": {
        "id": "6NBAY3dlFGE_"
      },
      "source": [
        "# Evaluate on test set"
      ]
    },
    {
      "cell_type": "code",
      "metadata": {
        "colab": {
          "base_uri": "https://localhost:8080/"
        },
        "id": "4Ghpiv9KFJiB",
        "outputId": "c4bf3f8b-e399-4a8f-bfd4-f45ef1b84aa5"
      },
      "source": [
        "print(model.metrics_names)\n",
        "print(model.evaluate(test, verbose=0))"
      ],
      "execution_count": 6,
      "outputs": [
        {
          "output_type": "stream",
          "name": "stdout",
          "text": [
            "['loss', 'binary_accuracy']\n",
            "[0.4418994188308716, 0.8271710872650146]\n"
          ]
        }
      ]
    },
    {
      "cell_type": "markdown",
      "metadata": {
        "id": "HfRp3x-cHscc"
      },
      "source": [
        "# Train VGG19"
      ]
    },
    {
      "cell_type": "code",
      "metadata": {
        "colab": {
          "base_uri": "https://localhost:8080/"
        },
        "id": "vla7JNvwHwRI",
        "outputId": "dce7c8b4-d540-46cd-c54a-f58e8dafa43b"
      },
      "source": [
        "import numpy as np\n",
        "\n",
        "model = tf.keras.Sequential()\n",
        "model.add(tf.keras.applications.VGG19(include_top=False, pooling='avg'))\n",
        "model.add(tf.keras.layers.Dense(1, activation='sigmoid'))\n",
        "model.layers[0].trainable = False\n",
        "\n",
        "model.compile(optimizer='adam', loss='binary_crossentropy', metrics=['binary_accuracy'])\n",
        "\n",
        "epochs = 5\n",
        "model.fit(training, epochs=epochs, validation_data=validation)"
      ],
      "execution_count": 8,
      "outputs": [
        {
          "output_type": "stream",
          "name": "stdout",
          "text": [
            "Epoch 1/5\n",
            "509/509 [==============================] - 171s 333ms/step - loss: 0.1461 - binary_accuracy: 0.9542 - val_loss: 0.0814 - val_binary_accuracy: 0.9759\n",
            "Epoch 2/5\n",
            "509/509 [==============================] - 170s 333ms/step - loss: 0.0539 - binary_accuracy: 0.9815 - val_loss: 0.0692 - val_binary_accuracy: 0.9772\n",
            "Epoch 3/5\n",
            "509/509 [==============================] - 170s 333ms/step - loss: 0.0413 - binary_accuracy: 0.9865 - val_loss: 0.0644 - val_binary_accuracy: 0.9802\n",
            "Epoch 4/5\n",
            "509/509 [==============================] - 170s 334ms/step - loss: 0.0347 - binary_accuracy: 0.9891 - val_loss: 0.0612 - val_binary_accuracy: 0.9820\n",
            "Epoch 5/5\n",
            "509/509 [==============================] - 170s 333ms/step - loss: 0.0304 - binary_accuracy: 0.9903 - val_loss: 0.0593 - val_binary_accuracy: 0.9837\n"
          ]
        },
        {
          "output_type": "execute_result",
          "data": {
            "text/plain": [
              "<keras.callbacks.History at 0x7f17b0368f10>"
            ]
          },
          "metadata": {},
          "execution_count": 8
        }
      ]
    },
    {
      "cell_type": "markdown",
      "metadata": {
        "id": "nP_8Y147dlLc"
      },
      "source": [
        "# Evaluate VGG19 on test set\n",
        "\n",
        "The VGG19 model performs much better than the regular CNN, likely due to the more robust model architecture and a larger training dataset."
      ]
    },
    {
      "cell_type": "code",
      "metadata": {
        "colab": {
          "base_uri": "https://localhost:8080/"
        },
        "id": "SqvNQXwRdnuz",
        "outputId": "00a8ef6f-c3a6-4fa2-ceaf-78ede88d7dea"
      },
      "source": [
        "print(model.metrics_names)\n",
        "print(model.evaluate(test, verbose=0))"
      ],
      "execution_count": 9,
      "outputs": [
        {
          "output_type": "stream",
          "name": "stdout",
          "text": [
            "['loss', 'binary_accuracy']\n",
            "[0.04546971619129181, 0.9888219833374023]\n"
          ]
        }
      ]
    },
    {
      "cell_type": "markdown",
      "metadata": {
        "id": "rACJRiyxevud"
      },
      "source": [
        "# Create and train new CNN with random transformations"
      ]
    },
    {
      "cell_type": "code",
      "metadata": {
        "colab": {
          "base_uri": "https://localhost:8080/"
        },
        "id": "26-6PGfievQF",
        "outputId": "2d41a3a7-d33d-408b-95d9-91bed5f8ad36"
      },
      "source": [
        "model = tf.keras.Sequential()\n",
        "model.add(tf.keras.layers.Rescaling(1./255))\n",
        "model.add(tf.keras.layers.RandomFlip())\n",
        "model.add(tf.keras.layers.RandomRotation((1, 1), fill_mode='nearest'))\n",
        "model.add(tf.keras.layers.Conv2D(32, 3, activation='relu'))\n",
        "model.add(tf.keras.layers.MaxPooling2D())\n",
        "model.add(tf.keras.layers.Conv2D(32, 3, activation='relu'))\n",
        "model.add(tf.keras.layers.MaxPooling2D())\n",
        "model.add(tf.keras.layers.Conv2D(32, 3, activation='relu'))\n",
        "model.add(tf.keras.layers.MaxPooling2D())\n",
        "model.add(tf.keras.layers.Conv2D(32, 3, activation='relu'))\n",
        "model.add(tf.keras.layers.MaxPooling2D())\n",
        "model.add(tf.keras.layers.Flatten())\n",
        "model.add(tf.keras.layers.Dense(128, activation='relu'))\n",
        "model.add(tf.keras.layers.Dense(128, activation='relu'))\n",
        "model.add(tf.keras.layers.Dense(1, activation='sigmoid'))\n",
        "\n",
        "model.compile(optimizer='adam', loss=tf.losses.BinaryCrossentropy(), metrics=['binary_accuracy'])\n",
        "\n",
        "epochs = 5\n",
        "model.fit(training, epochs=epochs, validation_data=validation)"
      ],
      "execution_count": 12,
      "outputs": [
        {
          "output_type": "stream",
          "name": "stdout",
          "text": [
            "Epoch 1/5\n",
            "509/509 [==============================] - 81s 157ms/step - loss: 0.6093 - binary_accuracy: 0.6545 - val_loss: 0.5696 - val_binary_accuracy: 0.7035\n",
            "Epoch 2/5\n",
            "509/509 [==============================] - 79s 156ms/step - loss: 0.5281 - binary_accuracy: 0.7369 - val_loss: 0.5056 - val_binary_accuracy: 0.7602\n",
            "Epoch 3/5\n",
            "509/509 [==============================] - 80s 156ms/step - loss: 0.4699 - binary_accuracy: 0.7771 - val_loss: 0.5191 - val_binary_accuracy: 0.7400\n",
            "Epoch 4/5\n",
            "509/509 [==============================] - 79s 154ms/step - loss: 0.4288 - binary_accuracy: 0.8028 - val_loss: 0.4163 - val_binary_accuracy: 0.8131\n",
            "Epoch 5/5\n",
            "509/509 [==============================] - 79s 155ms/step - loss: 0.3940 - binary_accuracy: 0.8232 - val_loss: 0.4113 - val_binary_accuracy: 0.8092\n"
          ]
        },
        {
          "output_type": "execute_result",
          "data": {
            "text/plain": [
              "<keras.callbacks.History at 0x7f1713a5a550>"
            ]
          },
          "metadata": {},
          "execution_count": 12
        }
      ]
    },
    {
      "cell_type": "markdown",
      "metadata": {
        "id": "mtTeNeXNhYSr"
      },
      "source": [
        "# Evaluate on test set\n",
        "\n",
        "Performance is a little bit better, likely because the random transformations forced the model to learn fundemental patterns of the animals instead of learning the simple patterns present in the image."
      ]
    },
    {
      "cell_type": "code",
      "metadata": {
        "colab": {
          "base_uri": "https://localhost:8080/"
        },
        "id": "kzQTyEjthcn_",
        "outputId": "4f0ae3c9-4f01-4306-ce30-fc54ba8343f1"
      },
      "source": [
        "print(model.metrics_names)\n",
        "print(model.evaluate(test, verbose=0))"
      ],
      "execution_count": 13,
      "outputs": [
        {
          "output_type": "stream",
          "name": "stdout",
          "text": [
            "['loss', 'binary_accuracy']\n",
            "[0.38249924778938293, 0.8207222819328308]\n"
          ]
        }
      ]
    }
  ]
}