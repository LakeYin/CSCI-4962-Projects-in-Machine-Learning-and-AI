{
    "cells": [
        {
            "cell_type": "markdown",
            "source": [
                "# Load packages and define sigmoid function"
            ],
            "metadata": {}
        },
        {
            "cell_type": "code",
            "execution_count": 46,
            "source": [
                "import tensorflow as tf\r\n",
                "import pandas as pd\r\n",
                "from sklearn.model_selection import train_test_split\r\n",
                "\r\n",
                "def sigmoid(x):\r\n",
                "    return 1 / (1 + tf.math.exp(-x))"
            ],
            "outputs": [],
            "metadata": {}
        },
        {
            "cell_type": "markdown",
            "source": [
                "# Load the dataset (iris with only two classes)"
            ],
            "metadata": {}
        },
        {
            "cell_type": "code",
            "execution_count": 47,
            "source": [
                "data = pd.read_csv(\"iris.csv\")\r\n",
                "data"
            ],
            "outputs": [
                {
                    "output_type": "execute_result",
                    "data": {
                        "text/plain": [
                            "    sepal_length  sepal_width  petal_length  petal_width  class\n",
                            "0            5.1          3.5           1.4          0.2      0\n",
                            "1            4.9          3.0           1.4          0.2      0\n",
                            "2            4.7          3.2           1.3          0.2      0\n",
                            "3            4.6          3.1           1.5          0.2      0\n",
                            "4            5.0          3.6           1.4          0.2      0\n",
                            "..           ...          ...           ...          ...    ...\n",
                            "95           5.7          3.0           4.2          1.2      1\n",
                            "96           5.7          2.9           4.2          1.3      1\n",
                            "97           6.2          2.9           4.3          1.3      1\n",
                            "98           5.1          2.5           3.0          1.1      1\n",
                            "99           5.7          2.8           4.1          1.3      1\n",
                            "\n",
                            "[100 rows x 5 columns]"
                        ],
                        "text/html": [
                            "<div>\n",
                            "<style scoped>\n",
                            "    .dataframe tbody tr th:only-of-type {\n",
                            "        vertical-align: middle;\n",
                            "    }\n",
                            "\n",
                            "    .dataframe tbody tr th {\n",
                            "        vertical-align: top;\n",
                            "    }\n",
                            "\n",
                            "    .dataframe thead th {\n",
                            "        text-align: right;\n",
                            "    }\n",
                            "</style>\n",
                            "<table border=\"1\" class=\"dataframe\">\n",
                            "  <thead>\n",
                            "    <tr style=\"text-align: right;\">\n",
                            "      <th></th>\n",
                            "      <th>sepal_length</th>\n",
                            "      <th>sepal_width</th>\n",
                            "      <th>petal_length</th>\n",
                            "      <th>petal_width</th>\n",
                            "      <th>class</th>\n",
                            "    </tr>\n",
                            "  </thead>\n",
                            "  <tbody>\n",
                            "    <tr>\n",
                            "      <th>0</th>\n",
                            "      <td>5.1</td>\n",
                            "      <td>3.5</td>\n",
                            "      <td>1.4</td>\n",
                            "      <td>0.2</td>\n",
                            "      <td>0</td>\n",
                            "    </tr>\n",
                            "    <tr>\n",
                            "      <th>1</th>\n",
                            "      <td>4.9</td>\n",
                            "      <td>3.0</td>\n",
                            "      <td>1.4</td>\n",
                            "      <td>0.2</td>\n",
                            "      <td>0</td>\n",
                            "    </tr>\n",
                            "    <tr>\n",
                            "      <th>2</th>\n",
                            "      <td>4.7</td>\n",
                            "      <td>3.2</td>\n",
                            "      <td>1.3</td>\n",
                            "      <td>0.2</td>\n",
                            "      <td>0</td>\n",
                            "    </tr>\n",
                            "    <tr>\n",
                            "      <th>3</th>\n",
                            "      <td>4.6</td>\n",
                            "      <td>3.1</td>\n",
                            "      <td>1.5</td>\n",
                            "      <td>0.2</td>\n",
                            "      <td>0</td>\n",
                            "    </tr>\n",
                            "    <tr>\n",
                            "      <th>4</th>\n",
                            "      <td>5.0</td>\n",
                            "      <td>3.6</td>\n",
                            "      <td>1.4</td>\n",
                            "      <td>0.2</td>\n",
                            "      <td>0</td>\n",
                            "    </tr>\n",
                            "    <tr>\n",
                            "      <th>...</th>\n",
                            "      <td>...</td>\n",
                            "      <td>...</td>\n",
                            "      <td>...</td>\n",
                            "      <td>...</td>\n",
                            "      <td>...</td>\n",
                            "    </tr>\n",
                            "    <tr>\n",
                            "      <th>95</th>\n",
                            "      <td>5.7</td>\n",
                            "      <td>3.0</td>\n",
                            "      <td>4.2</td>\n",
                            "      <td>1.2</td>\n",
                            "      <td>1</td>\n",
                            "    </tr>\n",
                            "    <tr>\n",
                            "      <th>96</th>\n",
                            "      <td>5.7</td>\n",
                            "      <td>2.9</td>\n",
                            "      <td>4.2</td>\n",
                            "      <td>1.3</td>\n",
                            "      <td>1</td>\n",
                            "    </tr>\n",
                            "    <tr>\n",
                            "      <th>97</th>\n",
                            "      <td>6.2</td>\n",
                            "      <td>2.9</td>\n",
                            "      <td>4.3</td>\n",
                            "      <td>1.3</td>\n",
                            "      <td>1</td>\n",
                            "    </tr>\n",
                            "    <tr>\n",
                            "      <th>98</th>\n",
                            "      <td>5.1</td>\n",
                            "      <td>2.5</td>\n",
                            "      <td>3.0</td>\n",
                            "      <td>1.1</td>\n",
                            "      <td>1</td>\n",
                            "    </tr>\n",
                            "    <tr>\n",
                            "      <th>99</th>\n",
                            "      <td>5.7</td>\n",
                            "      <td>2.8</td>\n",
                            "      <td>4.1</td>\n",
                            "      <td>1.3</td>\n",
                            "      <td>1</td>\n",
                            "    </tr>\n",
                            "  </tbody>\n",
                            "</table>\n",
                            "<p>100 rows × 5 columns</p>\n",
                            "</div>"
                        ]
                    },
                    "metadata": {},
                    "execution_count": 47
                }
            ],
            "metadata": {}
        },
        {
            "cell_type": "markdown",
            "source": [
                "# Split dataset into training/testing sets"
            ],
            "metadata": {}
        },
        {
            "cell_type": "code",
            "execution_count": 48,
            "source": [
                "X_train, X_test, y_train, y_test = train_test_split(data.iloc[:, :-1], data.iloc[:, -1], test_size=0.3)\r\n",
                "X_train = tf.cast(tf.convert_to_tensor(X_train), tf.float32)\r\n",
                "X_test = tf.cast(tf.convert_to_tensor(X_test), tf.float32)\r\n",
                "y_train = tf.cast(tf.convert_to_tensor(y_train), tf.float32)\r\n",
                "y_test = tf.cast(tf.convert_to_tensor(y_test), tf.float32)\r\n",
                "\r\n",
                "train = tf.data.Dataset.from_tensor_slices((X_train, y_train))\r\n",
                "test = tf.data.Dataset.from_tensor_slices((X_test, y_test))"
            ],
            "outputs": [],
            "metadata": {}
        },
        {
            "cell_type": "markdown",
            "source": [
                "# Initialize variables"
            ],
            "metadata": {}
        },
        {
            "cell_type": "code",
            "execution_count": 49,
            "source": [
                "weights = tf.random.uniform((1, X_train.shape[1]), minval=0.0001, maxval=0.001)\r\n",
                "bias = tf.random.uniform((1, 1), minval=0.0001, maxval=0.001)\r\n",
                "eta = 0.001\r\n",
                "\r\n",
                "weights"
            ],
            "outputs": [
                {
                    "output_type": "execute_result",
                    "data": {
                        "text/plain": [
                            "<tf.Tensor: shape=(1, 4), dtype=float32, numpy=array([[0.00077405, 0.00088458, 0.0002309 , 0.00075721]], dtype=float32)>"
                        ]
                    },
                    "metadata": {},
                    "execution_count": 49
                }
            ],
            "metadata": {}
        },
        {
            "cell_type": "markdown",
            "source": [
                "# Perform logistic regression, updating the variables at each point"
            ],
            "metadata": {}
        },
        {
            "cell_type": "code",
            "execution_count": 50,
            "source": [
                "runs = 5\r\n",
                "for i in range(runs):\r\n",
                "    # iterate and update at each value\r\n",
                "    train = train.shuffle(len(train))\r\n",
                "    for x, y in train:\r\n",
                "        y_i = sigmoid(tf.tensordot(weights, x, 1) + bias)\r\n",
                "\r\n",
                "        dw = x * (y_i - y)\r\n",
                "        db = y_i - y\r\n",
                "\r\n",
                "        weights = weights - eta * dw\r\n",
                "        bias = bias - eta * db\r\n",
                "\r\n",
                "weights"
            ],
            "outputs": [
                {
                    "output_type": "execute_result",
                    "data": {
                        "text/plain": [
                            "<tf.Tensor: shape=(1, 4), dtype=float32, numpy=\n",
                            "array([[ 0.00381271, -0.08971262,  0.18218699,  0.07538848]],\n",
                            "      dtype=float32)>"
                        ]
                    },
                    "metadata": {},
                    "execution_count": 50
                }
            ],
            "metadata": {}
        },
        {
            "cell_type": "markdown",
            "source": [
                "# Evaluate test set and calculate error rate"
            ],
            "metadata": {}
        },
        {
            "cell_type": "code",
            "execution_count": 51,
            "source": [
                "errors = 0\r\n",
                "for x, y in test:\r\n",
                "    y_i = 1 if sigmoid(tf.tensordot(weights, x, 1) + bias) >= 0.5 else 0\r\n",
                "\r\n",
                "    if y_i != y:\r\n",
                "        errors += 1\r\n",
                "\r\n",
                "errors / len(test)"
            ],
            "outputs": [
                {
                    "output_type": "execute_result",
                    "data": {
                        "text/plain": [
                            "0.16666666666666666"
                        ]
                    },
                    "metadata": {},
                    "execution_count": 51
                }
            ],
            "metadata": {}
        }
    ],
    "metadata": {
        "orig_nbformat": 4,
        "language_info": {
            "name": "python",
            "version": "3.8.6rc1",
            "mimetype": "text/x-python",
            "codemirror_mode": {
                "name": "ipython",
                "version": 3
            },
            "pygments_lexer": "ipython3",
            "nbconvert_exporter": "python",
            "file_extension": ".py"
        },
        "kernelspec": {
            "name": "python3",
            "display_name": "Python 3.8.6 64-bit"
        },
        "interpreter": {
            "hash": "965a33b357934e9f83fc7ef133db771ae96b140076b3a892fdf40d2537a7764b"
        }
    },
    "nbformat": 4,
    "nbformat_minor": 2
}