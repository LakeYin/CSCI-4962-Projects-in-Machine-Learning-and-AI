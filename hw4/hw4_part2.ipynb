{
 "cells": [
  {
   "cell_type": "markdown",
   "source": [
    "# Import word embeddings\r\n",
    "Downloaded using <code>kaggle datasets download alvations/vegetables-google-word2vec</code>. Due to the large size of the files, the dataset cannot be uploaded directly to GitHub."
   ],
   "metadata": {}
  },
  {
   "cell_type": "code",
   "execution_count": 16,
   "source": [
    "import numpy as np\r\n",
    "\r\n",
    "embeddings = np.load(\"word2vec.news.negative-sample.300d.npy\")\r\n",
    "with open(\"word2vec.news.negative-sample.300d.txt\", 'r', encoding='utf8') as f:\r\n",
    "    word_table = {line.replace(\"\\n\", \"\"): i for i, line in enumerate(f)}\r\n",
    "\r\n",
    "def get_vec(word):\r\n",
    "    return embeddings[word_table[word]]"
   ],
   "outputs": [],
   "metadata": {}
  },
  {
   "cell_type": "markdown",
   "source": [
    "# User inputs"
   ],
   "metadata": {}
  },
  {
   "cell_type": "code",
   "execution_count": 13,
   "source": [
    "word1 = input()\r\n",
    "word2 = input()\r\n",
    "\r\n",
    "print(word1)\r\n",
    "print(word2)\r\n",
    "\r\n",
    "vec1 = get_vec(word1)\r\n",
    "vec2 = get_vec(word2)"
   ],
   "outputs": [
    {
     "output_type": "stream",
     "name": "stdout",
     "text": [
      "cat\n",
      "dog\n"
     ]
    }
   ],
   "metadata": {}
  },
  {
   "cell_type": "markdown",
   "source": [
    "# Cosine similarity"
   ],
   "metadata": {}
  },
  {
   "cell_type": "code",
   "execution_count": 14,
   "source": [
    "print(np.dot(vec1, vec2) / (np.linalg.norm(vec1) * np.linalg.norm(vec2)))"
   ],
   "outputs": [
    {
     "output_type": "stream",
     "name": "stdout",
     "text": [
      "0.76094574\n"
     ]
    }
   ],
   "metadata": {}
  },
  {
   "cell_type": "markdown",
   "source": [
    "# Dissimilarity\r\n",
    "Based on the results of this paper, I will treat dissimiliary as the distance between two word embeddings, calculated as the norm between the vectors.\r\n",
    "\r\n",
    "https://mkusner.github.io/publications/WMD.pdf"
   ],
   "metadata": {}
  },
  {
   "cell_type": "code",
   "execution_count": 15,
   "source": [
    "print(np.linalg.norm(vec1 - vec2))"
   ],
   "outputs": [
    {
     "output_type": "stream",
     "name": "stdout",
     "text": [
      "2.0815337\n"
     ]
    }
   ],
   "metadata": {}
  }
 ],
 "metadata": {
  "orig_nbformat": 4,
  "language_info": {
   "name": "python",
   "version": "3.8.6rc1",
   "mimetype": "text/x-python",
   "codemirror_mode": {
    "name": "ipython",
    "version": 3
   },
   "pygments_lexer": "ipython3",
   "nbconvert_exporter": "python",
   "file_extension": ".py"
  },
  "kernelspec": {
   "name": "python3",
   "display_name": "Python 3.8.6rc1 64-bit"
  },
  "interpreter": {
   "hash": "965a33b357934e9f83fc7ef133db771ae96b140076b3a892fdf40d2537a7764b"
  }
 },
 "nbformat": 4,
 "nbformat_minor": 2
}