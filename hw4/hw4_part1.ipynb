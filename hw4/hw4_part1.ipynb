{
  "nbformat": 4,
  "nbformat_minor": 2,
  "metadata": {
    "orig_nbformat": 4,
    "language_info": {
      "name": "python",
      "version": "3.8.6rc1",
      "mimetype": "text/x-python",
      "codemirror_mode": {
        "name": "ipython",
        "version": 3
      },
      "pygments_lexer": "ipython3",
      "nbconvert_exporter": "python",
      "file_extension": ".py"
    },
    "kernelspec": {
      "name": "python3",
      "display_name": "Python 3.8.6rc1 64-bit"
    },
    "interpreter": {
      "hash": "965a33b357934e9f83fc7ef133db771ae96b140076b3a892fdf40d2537a7764b"
    },
    "colab": {
      "name": "hw4.ipynb",
      "provenance": []
    },
    "accelerator": "GPU"
  },
  "cells": [
    {
      "cell_type": "markdown",
      "source": [
        "# Import dataset\r\n",
        "We will be trying to classify IMDB reviews as either positive or negative. Sequence models are useful for this task since text is just a sequence of words and a sequence model can learn the pattern of these words. Due to the computing time required for this task, only 5000 samples will be used for the training set.\r\n",
        "\r\n",
        "https://www.tensorflow.org/datasets/catalog/imdb_reviews"
      ],
      "metadata": {
        "id": "XhxD0Zt-x-iy"
      }
    },
    {
      "cell_type": "code",
      "execution_count": 1,
      "source": [
        "from tensorflow import keras\r\n",
        "import tensorflow as tf\r\n",
        "import tensorflow_datasets as tfds\r\n",
        "import numpy as np\r\n",
        "\r\n",
        "train_set = tfds.load('imdb_reviews', split='train', as_supervised=True).take(5000)\r\n",
        "test_set = tfds.load('imdb_reviews', split='test', as_supervised=True).take(1000)"
      ],
      "outputs": [],
      "metadata": {
        "id": "BP9G8bxdx-jL"
      }
    },
    {
      "cell_type": "markdown",
      "source": [
        "# Prepare tokens"
      ],
      "metadata": {
        "id": "9E3_8hI5x-jZ"
      }
    },
    {
      "cell_type": "code",
      "execution_count": 2,
      "source": [
        "max_text_length = 0\r\n",
        "\r\n",
        "# training\r\n",
        "X_train = []\r\n",
        "y_train = []\r\n",
        "for i, j in train_set:\r\n",
        "    i = str(i.numpy())\r\n",
        "    max_text_length = max(max_text_length, len(i))\r\n",
        "    X_train.append(i)\r\n",
        "    y_train.append(int(j))\r\n",
        "\r\n",
        "tokenizer = keras.preprocessing.text.Tokenizer(num_words=10000)\r\n",
        "tokenizer.fit_on_texts(X_train)\r\n",
        "\r\n",
        "X_train = tokenizer.texts_to_sequences(X_train)\r\n",
        "X_train = tf.keras.preprocessing.sequence.pad_sequences(X_train, maxlen=max_text_length, padding='post')\r\n",
        "\r\n",
        "X_train = np.array(X_train)\r\n",
        "y_train = np.array(y_train)\r\n",
        "\r\n",
        "# testing\r\n",
        "X_test = []\r\n",
        "y_test = []\r\n",
        "for i, j in test_set:\r\n",
        "    i = str(i.numpy())\r\n",
        "    X_test.append(i)\r\n",
        "    y_test.append(int(j))\r\n",
        "\r\n",
        "X_test = tokenizer.texts_to_sequences(X_test)\r\n",
        "X_test = tf.keras.preprocessing.sequence.pad_sequences(X_test, maxlen=max_text_length, padding='post')\r\n",
        "\r\n",
        "X_test = np.array(X_test)\r\n",
        "y_test = np.array(y_test)"
      ],
      "outputs": [],
      "metadata": {
        "id": "Y1uhgqSIx-jd"
      }
    },
    {
      "cell_type": "markdown",
      "source": [
        "# Build the RNN\n",
        "An embedding layer is needed to convert sequences of tokens into sequences of vectors that can be easily understood by the RNN layer, which uses tanh activation to take advantage of GPU optimizations. This is then fed into a layer for binary classification with sigmoid activation."
      ],
      "metadata": {
        "id": "Sbl8Mr0Rx-jh"
      }
    },
    {
      "cell_type": "code",
      "execution_count": 13,
      "source": [
        "model = keras.Sequential()\r\n",
        "model.add(keras.layers.Embedding(10001, 64, mask_zero=True))\r\n",
        "model.add(keras.layers.SimpleRNN(128))\r\n",
        "model.add(keras.layers.Dense(1, activation='sigmoid'))\r\n",
        "\r\n",
        "model.compile(optimizer='adam', loss='binary_crossentropy', metrics=[keras.metrics.BinaryAccuracy()])"
      ],
      "outputs": [],
      "metadata": {
        "id": "z68kY8uyx-jk"
      }
    },
    {
      "cell_type": "markdown",
      "source": [
        "# Train the model"
      ],
      "metadata": {
        "id": "fL8aNwG0x-jp"
      }
    },
    {
      "cell_type": "code",
      "execution_count": 14,
      "source": [
        "epochs = 5\r\n",
        "\r\n",
        "model.fit(X_train, y_train, epochs=epochs, validation_split=0.1, batch_size=256)"
      ],
      "outputs": [
        {
          "output_type": "stream",
          "name": "stdout",
          "text": [
            "Epoch 1/5\n",
            "18/18 [==============================] - 835s 46s/step - loss: 0.6982 - binary_accuracy: 0.5151 - val_loss: 0.6914 - val_binary_accuracy: 0.5360\n",
            "Epoch 2/5\n",
            "18/18 [==============================] - 828s 46s/step - loss: 0.6476 - binary_accuracy: 0.6631 - val_loss: 0.7092 - val_binary_accuracy: 0.4960\n",
            "Epoch 3/5\n",
            "18/18 [==============================] - 839s 47s/step - loss: 0.6216 - binary_accuracy: 0.6524 - val_loss: 0.7315 - val_binary_accuracy: 0.4820\n",
            "Epoch 4/5\n",
            "18/18 [==============================] - 868s 48s/step - loss: 0.5462 - binary_accuracy: 0.7520 - val_loss: 0.7160 - val_binary_accuracy: 0.5400\n",
            "Epoch 5/5\n",
            "18/18 [==============================] - 864s 48s/step - loss: 0.4547 - binary_accuracy: 0.8260 - val_loss: 0.6810 - val_binary_accuracy: 0.6000\n"
          ]
        },
        {
          "output_type": "execute_result",
          "data": {
            "text/plain": [
              "<keras.callbacks.History at 0x7fb2de446d50>"
            ]
          },
          "metadata": {},
          "execution_count": 14
        }
      ],
      "metadata": {
        "colab": {
          "base_uri": "https://localhost:8080/"
        },
        "id": "VvAo3Yk3x-jt",
        "outputId": "82a48d64-9c44-4000-aafa-0e0182955eab"
      }
    },
    {
      "cell_type": "markdown",
      "source": [
        "# Evaluate on test set"
      ],
      "metadata": {
        "id": "66PAK1msASIf"
      }
    },
    {
      "cell_type": "code",
      "execution_count": 15,
      "source": [
        "print(model.metrics_names)\r\n",
        "print(model.evaluate(X_test, y_test, verbose=0))"
      ],
      "outputs": [
        {
          "output_type": "stream",
          "name": "stdout",
          "text": [
            "['loss', 'binary_accuracy']\n",
            "[0.6651999950408936, 0.6190000176429749]\n"
          ]
        }
      ],
      "metadata": {
        "id": "ImLBXPqFAidz",
        "colab": {
          "base_uri": "https://localhost:8080/"
        },
        "outputId": "6a4a4336-86ab-4538-af1c-9b0eb1b37fa4"
      }
    },
    {
      "cell_type": "markdown",
      "source": [
        "# Create new model with LSTM"
      ],
      "metadata": {
        "id": "1Ouf3UmOyusq"
      }
    },
    {
      "cell_type": "code",
      "execution_count": 3,
      "source": [
        "model2 = keras.Sequential()\r\n",
        "model2.add(keras.layers.Embedding(10001, 64, mask_zero=True))\r\n",
        "model2.add(keras.layers.LSTM(128))\r\n",
        "model2.add(keras.layers.Dense(1, activation='sigmoid'))\r\n",
        "\r\n",
        "model2.compile(optimizer='adam', loss='binary_crossentropy', metrics=[keras.metrics.BinaryAccuracy()])"
      ],
      "outputs": [],
      "metadata": {
        "id": "m5xc-zpRy2XT"
      }
    },
    {
      "cell_type": "markdown",
      "source": [
        "# Train the new model"
      ],
      "metadata": {
        "id": "FB9WLW8tzGWQ"
      }
    },
    {
      "cell_type": "code",
      "execution_count": 4,
      "source": [
        "epochs = 5\r\n",
        "\r\n",
        "model2.fit(X_train, y_train, epochs=epochs, validation_split=0.1, batch_size=64) # batch size reduced due to colab ram limits"
      ],
      "outputs": [
        {
          "output_type": "stream",
          "name": "stdout",
          "text": [
            "Epoch 1/5\n",
            "71/71 [==============================] - 21s 222ms/step - loss: 0.6879 - binary_accuracy: 0.5638 - val_loss: 0.6598 - val_binary_accuracy: 0.6100\n",
            "Epoch 2/5\n",
            "71/71 [==============================] - 14s 201ms/step - loss: 0.5184 - binary_accuracy: 0.7518 - val_loss: 0.4203 - val_binary_accuracy: 0.8200\n",
            "Epoch 3/5\n",
            "71/71 [==============================] - 14s 201ms/step - loss: 0.2508 - binary_accuracy: 0.9062 - val_loss: 0.4195 - val_binary_accuracy: 0.8300\n",
            "Epoch 4/5\n",
            "71/71 [==============================] - 14s 200ms/step - loss: 0.1470 - binary_accuracy: 0.9464 - val_loss: 0.4420 - val_binary_accuracy: 0.8200\n",
            "Epoch 5/5\n",
            "71/71 [==============================] - 14s 202ms/step - loss: 0.0907 - binary_accuracy: 0.9689 - val_loss: 0.4965 - val_binary_accuracy: 0.8200\n"
          ]
        },
        {
          "output_type": "execute_result",
          "data": {
            "text/plain": [
              "<keras.callbacks.History at 0x7fb30e14e0d0>"
            ]
          },
          "metadata": {},
          "execution_count": 4
        }
      ],
      "metadata": {
        "colab": {
          "base_uri": "https://localhost:8080/"
        },
        "id": "moIqHpAqzJrn",
        "outputId": "89c1283b-d58d-4b8b-9b52-e579eb813dbe"
      }
    },
    {
      "cell_type": "markdown",
      "source": [
        "# Evaluate LSTM on test set\n",
        "The LSTM is obviously much better than the SimpleRNN when predicting the sentiment of IMDB reviews. This is because the LSTM can remember longer patterns in the sentences. In comparison, the SimpleRNN can only remember one previous word for each cell.\n"
      ],
      "metadata": {
        "id": "Z6XKabSqzbfh"
      }
    },
    {
      "cell_type": "code",
      "execution_count": 6,
      "source": [
        "print(model2.metrics_names)\r\n",
        "print(model2.evaluate(X_test, y_test, verbose=0))"
      ],
      "outputs": [
        {
          "output_type": "stream",
          "name": "stdout",
          "text": [
            "['loss', 'binary_accuracy']\n",
            "[0.5765174627304077, 0.7770000100135803]\n"
          ]
        }
      ],
      "metadata": {
        "colab": {
          "base_uri": "https://localhost:8080/"
        },
        "id": "JF-tj1usze8v",
        "outputId": "38b1478f-ece4-4883-f334-8712760cbfdd"
      }
    }
  ]
}