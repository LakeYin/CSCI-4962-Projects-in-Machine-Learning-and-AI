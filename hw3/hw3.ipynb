{
 "cells": [
  {
   "cell_type": "markdown",
   "source": [
    "# Load data, separate into training, validation, and testing sets, and perform preprocessing\r\n",
    "\r\n",
    "The goal is to predict California housing value given various property attributes.\r\n",
    "\r\n",
    "https://scikit-learn.org/stable/modules/generated/sklearn.datasets.fetch_california_housing.html"
   ],
   "metadata": {}
  },
  {
   "cell_type": "code",
   "execution_count": 1,
   "source": [
    "import tensorflow as tf\r\n",
    "import numpy as np\r\n",
    "\r\n",
    "from sklearn.datasets import fetch_california_housing\r\n",
    "from sklearn.model_selection import train_test_split\r\n",
    "from sklearn.preprocessing import StandardScaler\r\n",
    "\r\n",
    "import matplotlib.pyplot as plt\r\n",
    "\r\n",
    "data = fetch_california_housing()\r\n",
    "X_train, X_test, y_train, y_test = train_test_split(data.data, data.target, test_size=0.2)\r\n",
    "\r\n",
    "plt.title(\"Housing Value (100,000s of USD)\")\r\n",
    "plt.hist(y_test)\r\n",
    "plt.show()\r\n",
    "\r\n",
    "y_train = y_train.reshape(-1, 1)\r\n",
    "y_test = y_test.reshape(-1, 1)\r\n",
    "\r\n",
    "X_scale = StandardScaler().fit(X_train)\r\n",
    "y_scale = StandardScaler().fit(y_train)\r\n",
    "\r\n",
    "X_train = tf.convert_to_tensor(X_scale.transform(X_train), np.float32)\r\n",
    "y_train = tf.convert_to_tensor(y_scale.transform(y_train), np.float32)\r\n",
    "X_test = tf.convert_to_tensor(X_scale.transform(X_test), np.float32)\r\n",
    "y_test = tf.convert_to_tensor(y_scale.transform(y_test), np.float32)\r\n",
    "\r\n",
    "training = tf.data.Dataset.from_tensor_slices((X_train, y_train))\r\n",
    "testing = tf.data.Dataset.from_tensor_slices((X_test, y_test))\r\n",
    "\r\n",
    "validation_size = int(0.1 * len(training))\r\n",
    "\r\n",
    "validation = training.take(validation_size)\r\n",
    "training = training.skip(validation_size)"
   ],
   "outputs": [
    {
     "output_type": "display_data",
     "data": {
      "image/png": "[encoded data removed]",
      "text/plain": [
       "<Figure size 432x288 with 1 Axes>"
      ]
     },
     "metadata": {
      "needs_background": "light"
     }
    }
   ],
   "metadata": {}
  },
  {
   "cell_type": "markdown",
   "source": [
    "# Define main training and evaluation functions\r\n",
    "\r\n",
    "Takes in a mini batch and layers and returns updated layers. The linear activation function is used since this is a regression task. Mean squared error is used as the loss function since it is well suited for regression. TensorFlow's GradientTape is used since it vastly reduces the time required for prototyping and development. Letting the computer handle derivatives makes it much easier to switch around functions.\r\n",
    "\r\n",
    "https://www.tensorflow.org/api_docs/python/tf/GradientTape"
   ],
   "metadata": {}
  },
  {
   "cell_type": "code",
   "execution_count": 2,
   "source": [
    "def train(batch, w1, b1, out_w, out_b, eta):\r\n",
    "    dw1 = tf.zeros(w1.shape)\r\n",
    "    db1 = tf.zeros(b1.shape)\r\n",
    "\r\n",
    "    out_dw = tf.zeros(out_w.shape)\r\n",
    "    out_db = tf.zeros(out_b.shape)  \r\n",
    "\r\n",
    "    for x, y_true in batch:\r\n",
    "        with tf.GradientTape(persistent=True) as tape:\r\n",
    "            # forward propagation\r\n",
    "            tape.watch([w1, b1, out_w, out_b])\r\n",
    "            y = evaluate(x, w1, b1, out_w, out_b)\r\n",
    "            loss = mse(y, y_true)\r\n",
    "\r\n",
    "        # back propagation\r\n",
    "        out_dw += tape.gradient(loss, out_w)\r\n",
    "        out_db += tape.gradient(loss, out_b)\r\n",
    "\r\n",
    "        dw1 += tape.gradient(loss, w1)\r\n",
    "        db1 += tape.gradient(loss, b1)\r\n",
    "\r\n",
    "        del tape\r\n",
    "\r\n",
    "    # adjust weights and bias with the mini batch results\r\n",
    "    w1 = w1 - eta * dw1 / len(batch)\r\n",
    "    b1 = b1 - eta * db1 / len(batch)\r\n",
    "        \r\n",
    "    out_w = out_w - eta * out_dw / len(batch)\r\n",
    "    out_b = out_b - eta * out_db / len(batch)\r\n",
    "\r\n",
    "    return w1, b1, out_w, out_b\r\n",
    "\r\n",
    "def evaluate(x, w1, b1, out_w, out_b):\r\n",
    "    x = tf.reshape(x, (1 ,x.shape[0]))\r\n",
    "    z1 = tf.add(tf.matmul(x, w1), b1)\r\n",
    "    y = tf.add(tf.matmul(z1, out_w), out_b)\r\n",
    "\r\n",
    "    return y\r\n",
    "\r\n",
    "def mse(y, y_true):\r\n",
    "    return tf.square(y - y_true)"
   ],
   "outputs": [],
   "metadata": {}
  },
  {
   "cell_type": "markdown",
   "source": [
    "# Define hyperparameters and begin training"
   ],
   "metadata": {}
  },
  {
   "cell_type": "code",
   "execution_count": 3,
   "source": [
    "layer1_size = 100\r\n",
    "epochs = 5\r\n",
    "eta = 0.01\r\n",
    "batch_size = 20\r\n",
    "\r\n",
    "w1 = tf.random.uniform((X_train.shape[1], layer1_size), minval=0.0001, maxval=0.001)\r\n",
    "b1 = tf.random.uniform((1, layer1_size), minval=0.0001, maxval=0.001)\r\n",
    "\r\n",
    "out_w = tf.random.uniform((layer1_size, 1), minval=0.0001, maxval=0.001)\r\n",
    "out_b = tf.random.uniform((1, 1), minval=0.0001, maxval=0.001)\r\n",
    "\r\n",
    "for i in range(epochs):\r\n",
    "    training = training.shuffle(len(training))\r\n",
    "    batch_training = training.batch(batch_size)   \r\n",
    "\r\n",
    "    for batch in batch_training:\r\n",
    "        batch = tf.data.Dataset.from_tensor_slices(batch)\r\n",
    "        w1, b1, out_w, out_b = train(batch, w1, b1, out_w, out_b, eta)\r\n",
    "\r\n",
    "    error = 0\r\n",
    "    for x, y in validation:\r\n",
    "        error += mse(evaluate(x, w1, b1, out_w, out_b), y)\r\n",
    "\r\n",
    "    print(f\"Epoch {i + 1} - Validation Error: {float(error)}\")"
   ],
   "outputs": [
    {
     "output_type": "stream",
     "name": "stdout",
     "text": [
      "Epoch 1 - Validation Error: 795.8168334960938\n",
      "Epoch 2 - Validation Error: 688.1010131835938\n",
      "Epoch 3 - Validation Error: 683.2474975585938\n",
      "Epoch 4 - Validation Error: 696.90234375\n",
      "Epoch 5 - Validation Error: 683.432861328125\n"
     ]
    }
   ],
   "metadata": {}
  },
  {
   "cell_type": "markdown",
   "source": [
    "# Evaluate testing set"
   ],
   "metadata": {}
  },
  {
   "cell_type": "code",
   "execution_count": 4,
   "source": [
    "from sklearn.metrics import r2_score\r\n",
    "\r\n",
    "y_pred = []\r\n",
    "y_true = []\r\n",
    "error = 0\r\n",
    "\r\n",
    "for x, y in testing:\r\n",
    "    prediction = float(y_scale.inverse_transform(np.array(evaluate(x, w1, b1, out_w, out_b)).reshape(-1, 1)))\r\n",
    "    truth = float(y_scale.inverse_transform(np.array(y).reshape(-1, 1)))\r\n",
    "\r\n",
    "    error += mse(prediction, truth)\r\n",
    "\r\n",
    "    y_pred.append(prediction)\r\n",
    "    y_true.append(truth)\r\n",
    "\r\n",
    "print(f\"Final error: {error}\")\r\n",
    "print(f\"R^2 score: {r2_score(y_true, y_pred)}\")\r\n"
   ],
   "outputs": [
    {
     "output_type": "stream",
     "name": "stdout",
     "text": [
      "Final error: 2148.2373046875\n",
      "R^2 score: 0.6043815098061165\n"
     ]
    }
   ],
   "metadata": {}
  }
 ],
 "metadata": {
  "orig_nbformat": 4,
  "language_info": {
   "name": "python",
   "version": "3.8.6rc1",
   "mimetype": "text/x-python",
   "codemirror_mode": {
    "name": "ipython",
    "version": 3
   },
   "pygments_lexer": "ipython3",
   "nbconvert_exporter": "python",
   "file_extension": ".py"
  },
  "kernelspec": {
   "name": "python3",
   "display_name": "Python 3.8.6rc1 64-bit"
  },
  "interpreter": {
   "hash": "965a33b357934e9f83fc7ef133db771ae96b140076b3a892fdf40d2537a7764b"
  }
 },
 "nbformat": 4,
 "nbformat_minor": 2
}